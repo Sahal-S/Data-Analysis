{
  "nbformat": 4,
  "nbformat_minor": 0,
  "metadata": {
    "colab": {
      "name": "Data validation.ipynb",
      "provenance": []
    },
    "kernelspec": {
      "name": "python3",
      "display_name": "Python 3"
    },
    "language_info": {
      "name": "python"
    }
  },
  "cells": [
    {
      "cell_type": "code",
      "execution_count": null,
      "metadata": {
        "id": "6q-wsOxDvgj5",
        "colab": {
          "base_uri": "https://localhost:8080/"
        },
        "outputId": "49b6608e-3ba2-4d9a-ccb2-8b79a5ff9639"
      },
      "outputs": [
        {
          "output_type": "stream",
          "name": "stdout",
          "text": [
            "      YearBuilt  2ndFlrSF  FullBath  BedroomAbvGr\n",
            "6          2004         0         2             3\n",
            "807        1923       504         1             3\n",
            "955        1946       979         2             4\n",
            "1040       1957         0         2             3\n",
            "701        1969         0         1             3\n",
            "...         ...       ...       ...           ...\n",
            "715        1974         0         2             3\n",
            "905        1954         0         1             3\n",
            "1096       1914       582         1             3\n",
            "235        1971       504         1             2\n",
            "1061       1935         0         1             2\n",
            "\n",
            "[1095 rows x 4 columns]\n"
          ]
        }
      ],
      "source": [
        "import pandas as pd\n",
        "home_data = pd.read_csv(\"/content/train.csv\")\n",
        "y = home_data.LotArea\n",
        "feature_names=[\"YearBuilt\", \"2ndFlrSF\",\"FullBath\", \"BedroomAbvGr\",]\n",
        "X=home_data[feature_names]\n",
        "\n",
        "from sklearn.tree import DecisionTreeRegressor\n",
        "iowa_model = DecisionTreeRegressor(random_state=1)\n",
        "iowa_model.fit(X, y)\n",
        "\n",
        "from sklearn.model_selection import train_test_split\n",
        "train_X, val_X, train_y, val_y = train_test_split(X, y, random_state=1)\n",
        "\n",
        "\n",
        "\n"
      ]
    },
    {
      "cell_type": "code",
      "source": [
        "import pandas as pd\n",
        "\n",
        "home_data = pd.read_csv(\"/content/data1.txt\")\n",
        "y = home_data[\"Sell Price($)\"]\n",
        "feature_names=[\"Mileage\",\"Age(yrs)\"]\n",
        "X=home_data[feature_names]\n",
        "from sklearn.tree import DecisionTreeRegressor\n",
        "iowa_model = DecisionTreeRegressor()\n",
        "\n",
        "from sklearn.model_selection import train_test_split\n",
        "train_X, val_X, train_y, val_y = train_test_split(X, y,test_size=0.5,random_state=1)\n",
        "iowa_model.fit(train_X, train_y)\n",
        "pre=iowa_model.predict(val_X)\n",
        "print(iowa_model.predict(val_X))\n",
        "print(val_y)\n",
        "\n",
        "from sklearn.metrics import mean_absolute_error\n",
        "mean_absolute_error(val_y,pre)\n",
        "\n"
      ],
      "metadata": {
        "colab": {
          "base_uri": "https://localhost:8080/"
        },
        "id": "vQSrUsDEKSCR",
        "outputId": "ffd563d3-33f4-4d44-dd94-b6a4f686edad"
      },
      "execution_count": null,
      "outputs": [
        {
          "output_type": "stream",
          "name": "stdout",
          "text": [
            "[35000. 35000. 28200. 19500. 28200. 19500. 27500. 18000. 18000. 35000.]\n",
            "3     40000\n",
            "16    35500\n",
            "6     32000\n",
            "10    18700\n",
            "2     26100\n",
            "14    19400\n",
            "4     31500\n",
            "17    19700\n",
            "7     19300\n",
            "1     34000\n",
            "Name: Sell Price($), dtype: int64\n"
          ]
        },
        {
          "output_type": "execute_result",
          "data": {
            "text/plain": [
              "2030.0"
            ]
          },
          "metadata": {},
          "execution_count": 23
        }
      ]
    }
  ]
}